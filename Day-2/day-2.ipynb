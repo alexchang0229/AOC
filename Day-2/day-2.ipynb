{
 "cells": [
  {
   "cell_type": "code",
   "execution_count": 42,
   "metadata": {},
   "outputs": [],
   "source": [
    "import functools \n",
    "import re\n",
    "\n",
    "class Game:\n",
    "    def __init__(self,game_ind):\n",
    "        self.game_ind = game_ind\n",
    "        self.colors = [\"red\",\"green\",\"blue\"]\n",
    "        self.sets = []\n",
    "    def add_set(self,colors):\n",
    "        self.sets.append(colors)\n",
    "    def is_possible(self):\n",
    "        possible = True\n",
    "        for game_set in self.sets:\n",
    "            if game_set[\"red\"] > 12 or game_set[\"green\"] > 13 or game_set[\"blue\"] > 14:\n",
    "                possible = False\n",
    "        return possible\n",
    "    def get_power(self):\n",
    "        power = 0\n",
    "        for color in self.colors:\n",
    "            min_cube_num = 0\n",
    "            for game_set in self.sets:\n",
    "                if game_set[color] > min_cube_num:\n",
    "                    min_cube_num = game_set[color] \n",
    "            if power == 0:\n",
    "                power = min_cube_num  \n",
    "            else: \n",
    "                power = power * min_cube_num\n",
    "        return power\n",
    "\n",
    "\n",
    "\n",
    "games = []\n",
    "with open(\"./input.text\") as input:\n",
    "    for row in input:\n",
    "        game_ind = row.split(\":\")[0].split(\" \")[1]\n",
    "        game = Game(int(game_ind))\n",
    "        game_sets = row.split(\":\")[1].split(\";\")\n",
    "        for game_set in game_sets:\n",
    "            cubes = game_set.split(\",\")\n",
    "            colors = {\"red\":0,\"green\":0,\"blue\":0}\n",
    "            for cube in cubes:\n",
    "                numeric = int(re.findall(r'\\d+', cube)[0])\n",
    "                for color in colors:\n",
    "                    if color in cube:\n",
    "                        colors[color] = numeric\n",
    "            game.add_set(colors)\n",
    "        games.append(game)"
   ]
  },
  {
   "cell_type": "code",
   "execution_count": 43,
   "metadata": {},
   "outputs": [
    {
     "name": "stdout",
     "output_type": "stream",
     "text": [
      "2278\n"
     ]
    }
   ],
   "source": [
    "sum_id = functools.reduce(lambda a,b: a + (b.game_ind if b.is_possible() else 0),games,0)\n",
    "print(sum_id)"
   ]
  },
  {
   "cell_type": "code",
   "execution_count": 46,
   "metadata": {},
   "outputs": [
    {
     "name": "stdout",
     "output_type": "stream",
     "text": [
      "67953\n"
     ]
    }
   ],
   "source": [
    "sum_power = functools.reduce(lambda a,b: a + b.get_power(),games,0)\n",
    "print(sum_power)"
   ]
  },
  {
   "cell_type": "code",
   "execution_count": null,
   "metadata": {},
   "outputs": [],
   "source": []
  }
 ],
 "metadata": {
  "kernelspec": {
   "display_name": "Python 3",
   "language": "python",
   "name": "python3"
  },
  "language_info": {
   "codemirror_mode": {
    "name": "ipython",
    "version": 3
   },
   "file_extension": ".py",
   "mimetype": "text/x-python",
   "name": "python",
   "nbconvert_exporter": "python",
   "pygments_lexer": "ipython3",
   "version": "3.8.5"
  },
  "orig_nbformat": 4
 },
 "nbformat": 4,
 "nbformat_minor": 2
}
